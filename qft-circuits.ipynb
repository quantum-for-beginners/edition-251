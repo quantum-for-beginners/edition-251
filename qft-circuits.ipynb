{
 "cells": [
  {
   "cell_type": "markdown",
   "id": "a8621452-fa58-4dc6-bf47-adebc81f5a96",
   "metadata": {},
   "source": [
    "---\n",
    "\n",
    "##  Quantum Fourier Transform: The Circuits\n",
    "\n",
    "_course: quantum cryptography for beginners\n",
    "<br>date: 29 november 2024\n",
    "<br>author: burton rosenberg_\n",
    "\n",
    "---\n"
   ]
  },
  {
   "cell_type": "code",
   "execution_count": 1,
   "id": "a2ee5cbb-4ac2-4b48-8e37-fdfa7420d5f8",
   "metadata": {},
   "outputs": [
    {
     "name": "stdout",
     "output_type": "stream",
     "text": [
      "\n",
      "qiskit version: 1.1.2\n",
      "\n"
     ]
    }
   ],
   "source": [
    "import qiskit\n",
    "from qiskit import QuantumCircuit\n",
    "from qiskit.quantum_info import Statevector, Operator, Pauli \n",
    "from qiskit.visualization import plot_bloch_multivector, plot_bloch_vector\n",
    "from IPython.display import display, Math, HTML\n",
    "import time, math\n",
    "from qiskit.providers.basic_provider import BasicSimulator\n",
    "from qiskit import QuantumRegister, ClassicalRegister\n",
    "from qiskit.circuit import Parameter\n",
    "\n",
    "print(f'\\nqiskit version: {qiskit.version.get_version_info()}\\n')\n",
    "\n",
    "import math\n",
    "import numpy as np\n",
    "import matplotlib.pyplot as plt\n"
   ]
  },
  {
   "cell_type": "markdown",
   "id": "56b46350-305a-43d4-b15a-ce7300663e4f",
   "metadata": {},
   "source": [
    "- [CPhaseGate](https://docs.quantum.ibm.com/api/qiskit/qiskit.circuit.library.CPhaseGate)\n",
    "- [circuit.swap](https://docs.quantum.ibm.com/api/qiskit/qiskit.circuit.QuantumCircuit#swap)"
   ]
  },
  {
   "cell_type": "code",
   "execution_count": 4,
   "id": "a4aee5c8-b224-44f4-9de3-447378819514",
   "metadata": {},
   "outputs": [
    {
     "data": {
      "image/png": "[encoded data removed]",
      "text/plain": [
       "<Figure size 621.739x200.667 with 1 Axes>"
      ]
     },
     "metadata": {},
     "output_type": "display_data"
    }
   ],
   "source": [
    "def qft(qc):\n",
    "    qc.h(1)\n",
    "    qc.cp(np.pi/2,0,1)\n",
    "    qc.h(0)\n",
    "    qc.swap(0,1)\n",
    "    qc.barrier()\n",
    "    return qc\n",
    "\n",
    "def set_n(qc, n):\n",
    "    i = 0\n",
    "    while n!=0:\n",
    "        if n%2==1:\n",
    "            qc.x(i)\n",
    "        i += 1\n",
    "        n = n//2\n",
    "    qc.barrier()\n",
    "    return qc\n",
    "\n",
    "def fft(n):\n",
    "    vdm = np.zeros((n,n),dtype=np.complex64)\n",
    "    w = np.exp(2j*math.pi/n)\n",
    "    for r in range(n): \n",
    "        for c in range(n):\n",
    "            vdm[r][c] = w**(r*c)\n",
    "    vdm = (1.0/np.sqrt(n))*vdm\n",
    "    return vdm\n",
    "\n",
    "q_fft = qft(QuantumCircuit(2))\n",
    "c_fft = fft(4)\n",
    "\n",
    "display(q_fft.draw('mpl'))\n"
   ]
  },
  {
   "cell_type": "code",
   "execution_count": 10,
   "id": "fdaf5b61-e445-4a74-ac49-61cfebd0219a",
   "metadata": {},
   "outputs": [
    {
     "data": {
      "text/plain": [
       "0"
      ]
     },
     "metadata": {},
     "output_type": "display_data"
    },
    {
     "data": {
      "text/latex": [
       "$$\\frac{1}{2} |00\\rangle+\\frac{1}{2} |01\\rangle+\\frac{1}{2} |10\\rangle+\\frac{1}{2} |11\\rangle$$"
      ],
      "text/plain": [
       "<IPython.core.display.Latex object>"
      ]
     },
     "metadata": {},
     "output_type": "display_data"
    },
    {
     "data": {
      "text/latex": [
       "$\\displaystyle (1/2)((1+0j)|00\\rangle + (1+0j)|01\\rangle + (1+0j)|10\\rangle + (1+0j)|11\\rangle)$"
      ],
      "text/plain": [
       "<IPython.core.display.Math object>"
      ]
     },
     "metadata": {},
     "output_type": "display_data"
    },
    {
     "data": {
      "text/plain": [
       "1"
      ]
     },
     "metadata": {},
     "output_type": "display_data"
    },
    {
     "data": {
      "text/latex": [
       "$$\\frac{1}{2} |00\\rangle+\\frac{i}{2} |01\\rangle- \\frac{1}{2} |10\\rangle- \\frac{i}{2} |11\\rangle$$"
      ],
      "text/plain": [
       "<IPython.core.display.Latex object>"
      ]
     },
     "metadata": {},
     "output_type": "display_data"
    },
    {
     "data": {
      "text/latex": [
       "$\\displaystyle (1/2)((1+0j)|00\\rangle + 1j|01\\rangle + (-1+0j)|10\\rangle + -1j|11\\rangle)$"
      ],
      "text/plain": [
       "<IPython.core.display.Math object>"
      ]
     },
     "metadata": {},
     "output_type": "display_data"
    },
    {
     "data": {
      "text/plain": [
       "2"
      ]
     },
     "metadata": {},
     "output_type": "display_data"
    },
    {
     "data": {
      "text/latex": [
       "$$\\frac{1}{2} |00\\rangle- \\frac{1}{2} |01\\rangle+\\frac{1}{2} |10\\rangle- \\frac{1}{2} |11\\rangle$$"
      ],
      "text/plain": [
       "<IPython.core.display.Latex object>"
      ]
     },
     "metadata": {},
     "output_type": "display_data"
    },
    {
     "data": {
      "text/latex": [
       "$\\displaystyle (1/2)((1+0j)|00\\rangle + (-1+0j)|01\\rangle + (1+0j)|10\\rangle + (-1+0j)|11\\rangle)$"
      ],
      "text/plain": [
       "<IPython.core.display.Math object>"
      ]
     },
     "metadata": {},
     "output_type": "display_data"
    },
    {
     "data": {
      "text/plain": [
       "3"
      ]
     },
     "metadata": {},
     "output_type": "display_data"
    },
    {
     "data": {
      "text/latex": [
       "$$\\frac{1}{2} |00\\rangle- \\frac{i}{2} |01\\rangle- \\frac{1}{2} |10\\rangle+\\frac{i}{2} |11\\rangle$$"
      ],
      "text/plain": [
       "<IPython.core.display.Latex object>"
      ]
     },
     "metadata": {},
     "output_type": "display_data"
    },
    {
     "data": {
      "text/latex": [
       "$\\displaystyle (1/2)((1+0j)|00\\rangle + -1j|01\\rangle + (-1+0j)|10\\rangle + 1j|11\\rangle)$"
      ],
      "text/plain": [
       "<IPython.core.display.Math object>"
      ]
     },
     "metadata": {},
     "output_type": "display_data"
    }
   ],
   "source": [
    "\n",
    "c_fft = fft(4)\n",
    "\n",
    "for i in range(4):\n",
    "    qc = qft(set_n(QuantumCircuit(2),i))\n",
    "    display(i,Statevector(qc).draw('latex'))\n",
    "    v = np.array([j==i for j in range(4)]).astype(int)\n",
    "    w = 2*c_fft.dot(v).round(2)\n",
    "    display(Math(rf'(1/2)({w[0]}|00\\rangle + {w[1]}|01\\rangle + {w[2]}|10\\rangle + {w[3]}|11\\rangle)'))"
   ]
  },
  {
   "cell_type": "code",
   "execution_count": null,
   "id": "bf0f6ec7-5f39-4186-8b2f-b81a62456039",
   "metadata": {},
   "outputs": [],
   "source": [
    "\n"
   ]
  },
  {
   "cell_type": "code",
   "execution_count": null,
   "id": "a8904c52-1ceb-44cf-8da1-034cb4cd9ec5",
   "metadata": {},
   "outputs": [],
   "source": []
  }
 ],
 "metadata": {
  "kernelspec": {
   "display_name": "Python 3 (ipykernel)",
   "language": "python",
   "name": "python3"
  },
  "language_info": {
   "codemirror_mode": {
    "name": "ipython",
    "version": 3
   },
   "file_extension": ".py",
   "mimetype": "text/x-python",
   "name": "python",
   "nbconvert_exporter": "python",
   "pygments_lexer": "ipython3",
   "version": "3.12.5"
  }
 },
 "nbformat": 4,
 "nbformat_minor": 5
}
