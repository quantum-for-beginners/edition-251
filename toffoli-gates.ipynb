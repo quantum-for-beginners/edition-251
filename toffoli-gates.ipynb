{
 "cells": [
  {
   "cell_type": "markdown",
   "id": "d9bb0917-f3f9-4bec-8d0a-637921197b4a",
   "metadata": {},
   "source": [
    "---\n",
    "\n",
    "##  Toffoli Gates\n",
    "\n",
    "_course: quantum cryptography for beginners\n",
    "<br>date: 12 december 2024\n",
    "<br>author: burton rosenberg_\n",
    "\n",
    "---\n"
   ]
  },
  {
   "cell_type": "code",
   "execution_count": 1,
   "id": "cca31762-b72d-45eb-8e8b-89fc8f93c7a6",
   "metadata": {},
   "outputs": [
    {
     "name": "stdout",
     "output_type": "stream",
     "text": [
      "\n",
      "qiskit version: 1.1.2\n",
      "\n"
     ]
    }
   ],
   "source": [
    "import qiskit\n",
    "from qiskit import QuantumCircuit\n",
    "from qiskit.quantum_info import Statevector, Operator, Pauli \n",
    "from qiskit.visualization import plot_bloch_multivector, plot_bloch_vector\n",
    "from IPython.display import display, Math, HTML\n",
    "import time, math\n",
    "from qiskit.providers.basic_provider import BasicSimulator\n",
    "from qiskit import QuantumRegister, ClassicalRegister\n",
    "from qiskit.circuit import Parameter\n",
    "\n",
    "print(f'\\nqiskit version: {qiskit.version.get_version_info()}\\n')\n",
    "\n",
    "import math\n",
    "import numpy as np\n",
    "import matplotlib.pyplot as plt\n"
   ]
  },
  {
   "cell_type": "markdown",
   "id": "d498a6bf-2ee0-45ee-bd2d-85f68ac9c97b",
   "metadata": {},
   "source": [
    "\n",
    "\n",
    "### Creating a Toffoli gate\n",
    "\n",
    "The Toffoli gate is the double controlled NOT, CCNOT. It is the logical and of two inputs, with the result applied to the ancillary as an inversion or not, if the two inputs are 1 or otherwise. It is interesting to wonder if the Toffoli gate is a new form of gate, or can it be constructed from gates which have only one control. \n",
    "\n",
    "It can be constructed with two CNOTs and new gate, a controled square root of a CNOT, and its inverse.\n",
    "\n",
    "Let there be a square root of the CNOT gate, $\\sqrt{X_c}^2 = X_c$ where $c\\in\\{\\,|0\\rangle, |1\\rangle\\,\\}$ is the \n",
    "control qubit. Along with its inverse construct the cascade,\n",
    "\n",
    "$$\n",
    " \\sqrt{X_a} \\circ\\sqrt{X_c}^{-1} \\circ \\sqrt{X_b}.\n",
    "$$\n",
    "\n",
    "For qubits $|x\\rangle, y\\rangle$ and ancillary $|z\\rangle$, create the Toffoli gate,\n",
    "\n",
    "$$\n",
    "T\\,|x\\,y\\,z\\rangle = \\bigl (\\sqrt{X_x} \\circ\\sqrt{X_{x\\oplus y}}^{-1} \\circ \\sqrt{X_y}\\bigr)\\, |z\\rangle\n",
    "$$\n",
    "\n",
    "The sense of this construction is that of the 6 possible controls to the gates, exactly four are used. Those are either all receive a $|0\\rangle$, or exactly two receive a $|1\\rangle$. In those three cases, two cancel and only $|11\\rangle$ completes to an inversion. Therefore,\n",
    "\n",
    "$$\n",
    "T\\,|x\\,y\\,z\\rangle = |x\\,\\,y\\,((x\\land y)\\oplus z)\\rangle\n",
    "$$\n"
   ]
  },
  {
   "cell_type": "code",
   "execution_count": 2,
   "id": "7d820d2f-909d-4efd-82c5-6aafb63285d5",
   "metadata": {},
   "outputs": [
    {
     "data": {
      "text/plain": [
       "'csx'"
      ]
     },
     "metadata": {},
     "output_type": "display_data"
    },
    {
     "data": {
      "text/latex": [
       "$$\n",
       "\n",
       "\\begin{bmatrix}\n",
       "1 & 0 & 0 & 0  \\\\\n",
       " 0 & \\frac{1}{2} + \\frac{i}{2} & 0 & \\frac{1}{2} - \\frac{i}{2}  \\\\\n",
       " 0 & 0 & 1 & 0  \\\\\n",
       " 0 & \\frac{1}{2} - \\frac{i}{2} & 0 & \\frac{1}{2} + \\frac{i}{2}  \\\\\n",
       " \\end{bmatrix}\n",
       "$$"
      ],
      "text/plain": [
       "<IPython.core.display.Latex object>"
      ]
     },
     "metadata": {},
     "output_type": "display_data"
    },
    {
     "data": {
      "text/plain": [
       "'csx adjoint'"
      ]
     },
     "metadata": {},
     "output_type": "display_data"
    },
    {
     "data": {
      "text/latex": [
       "$$\n",
       "\n",
       "\\begin{bmatrix}\n",
       "1 & 0 & 0 & 0  \\\\\n",
       " 0 & \\frac{1}{2} - \\frac{i}{2} & 0 & \\frac{1}{2} + \\frac{i}{2}  \\\\\n",
       " 0 & 0 & 1 & 0  \\\\\n",
       " 0 & \\frac{1}{2} + \\frac{i}{2} & 0 & \\frac{1}{2} - \\frac{i}{2}  \\\\\n",
       " \\end{bmatrix}\n",
       "$$"
      ],
      "text/plain": [
       "<IPython.core.display.Latex object>"
      ]
     },
     "metadata": {},
     "output_type": "display_data"
    },
    {
     "data": {
      "text/plain": [
       "'cu'"
      ]
     },
     "metadata": {},
     "output_type": "display_data"
    },
    {
     "data": {
      "text/latex": [
       "$$\n",
       "\n",
       "\\begin{bmatrix}\n",
       "1 & 0 & 0 & 0  \\\\\n",
       " 0 & \\frac{1}{2} - \\frac{i}{2} & 0 & \\frac{1}{2} + \\frac{i}{2}  \\\\\n",
       " 0 & 0 & 1 & 0  \\\\\n",
       " 0 & \\frac{1}{2} + \\frac{i}{2} & 0 & \\frac{1}{2} - \\frac{i}{2}  \\\\\n",
       " \\end{bmatrix}\n",
       "$$"
      ],
      "text/plain": [
       "<IPython.core.display.Latex object>"
      ]
     },
     "metadata": {},
     "output_type": "display_data"
    }
   ],
   "source": [
    "qc = QuantumCircuit(2)\n",
    "qc.csx(0,1)\n",
    "op = Operator(qc)\n",
    "display('csx',op.draw('latex'))\n",
    "op2 = op.adjoint()\n",
    "display('csx adjoint',op2.draw('latex'))\n",
    "qc = QuantumCircuit(2)\n",
    "qc.cu(np.pi/2, np.pi/2, -np.pi/2, -np.pi/4, 0, 1)\n",
    "op = Operator(qc)\n",
    "display('cu',op.draw('latex'))\n"
   ]
  },
  {
   "cell_type": "code",
   "execution_count": 3,
   "id": "4863e15a-6dd5-42f3-b60f-0167dbd26068",
   "metadata": {},
   "outputs": [
    {
     "data": {
      "image/png": "[encoded data removed]",
      "text/plain": [
       "<Figure size 789.163x284.278 with 1 Axes>"
      ]
     },
     "metadata": {},
     "output_type": "display_data"
    },
    {
     "data": {
      "text/latex": [
       "$$\\frac{1}{2} |000\\rangle+\\frac{1}{2} |001\\rangle+\\frac{1}{2} |010\\rangle+\\frac{1}{2} |111\\rangle$$"
      ],
      "text/plain": [
       "<IPython.core.display.Latex object>"
      ]
     },
     "metadata": {},
     "output_type": "display_data"
    }
   ],
   "source": [
    "def toffoli(qc):\n",
    "\n",
    "    # \n",
    "    qc_a = QuantumCircuit(2)\n",
    "    qc_a.csx(0,1)\n",
    "    op = Operator(qc_a).adjoint()\n",
    "\n",
    "    qc.csx(0,2)\n",
    "    qc.csx(1,2)\n",
    "    qc.cx(0,1)\n",
    "    qc.cu(np.pi/2, np.pi/2, -np.pi/2, -np.pi/4, 1, 2)\n",
    "    #qc.append(op,[1,2])\n",
    "    qc.cx(0,1)\n",
    "    return qc\n",
    "\n",
    "qc = QuantumCircuit(3)\n",
    "qc.h(0)\n",
    "qc.h(1)\n",
    "qc.barrier()\n",
    "qc = toffoli(qc)\n",
    "display(qc.draw('mpl'))\n",
    "display(Statevector(qc).draw('latex'))"
   ]
  },
  {
   "cell_type": "markdown",
   "id": "fffb504d-e785-4283-b14a-b9d89f25c342",
   "metadata": {},
   "source": [
    "### Kitaev's Construction\n",
    "\n",
    "See _Classical and Quantum Computation_, Kitaev, Shen and Vyalyi, page 67."
   ]
  },
  {
   "cell_type": "code",
   "execution_count": 48,
   "id": "1bb435df-5309-4ba5-bae8-e4d3ffc70e14",
   "metadata": {},
   "outputs": [
    {
     "data": {
      "image/png": "[encoded data removed]",
      "text/plain": [
       "<Figure size 1123.61x284.278 with 1 Axes>"
      ]
     },
     "metadata": {},
     "output_type": "display_data"
    },
    {
     "data": {
      "text/latex": [
       "$$\\frac{1}{2} |000\\rangle+\\frac{1}{2} |001\\rangle+\\frac{1}{2} |010\\rangle+\\frac{1}{2} |111\\rangle$$"
      ],
      "text/plain": [
       "<IPython.core.display.Latex object>"
      ]
     },
     "execution_count": 48,
     "metadata": {},
     "output_type": "execute_result"
    }
   ],
   "source": [
    "zero = Operator([[1,0],[0,0]])\n",
    "one = Operator([[0,0],[0,1]])\n",
    "identity = Operator([[1,0],[0,1]])\n",
    "\n",
    "x = (-1j/np.sqrt(2))*(Operator(Pauli('Z')) + Operator(Pauli('Y')))\n",
    "x_adj = x.adjoint()\n",
    "y = 1j*Operator(Pauli('Y'))\n",
    "y_adj = y.adjoint()\n",
    "\n",
    "def draw_1():\n",
    "    display(x.draw('latex'))\n",
    "    display(x_adj.draw('latex'))\n",
    "    display(y.draw('latex'))\n",
    "    display(y_adj.draw('latex'))\n",
    "\n",
    "# draw_1()\n",
    "\n",
    "g1 = zero.tensor(identity).tensor(identity) + one.tensor(identity).tensor(y_adj)\n",
    "g2 = identity.tensor(zero).tensor(identity) + identity.tensor(one).tensor(x_adj)\n",
    "g3 = zero.tensor(identity).tensor(identity) + one.tensor(identity).tensor(y)\n",
    "g4 = identity.tensor(zero).tensor(identity) + identity.tensor(one).tensor(x)\n",
    "\n",
    "qc = QuantumCircuit(3)\n",
    "qc.h(0)\n",
    "qc.h(1)\n",
    "qc.barrier()\n",
    "qubits= [2,1,0]\n",
    "qc.append(g1,qargs=qubits)\n",
    "qc.append(g2,qargs=qubits)\n",
    "qc.append(g3,qargs=qubits)\n",
    "qc.append(g4,qargs=qubits)\n",
    "qc.cp(np.pi/2.0,0,1)\n",
    "display(qc.draw('mpl'))\n",
    "sv = Statevector(qc)\n",
    "sv.draw('latex')\n",
    "\n"
   ]
  },
  {
   "cell_type": "markdown",
   "id": "b52ba755-9b58-49bf-9b4d-76bd3d1bd089",
   "metadata": {},
   "source": [
    "\n",
    "### Reversible classical computing\n",
    "\n",
    "The question is, is there an analog construction in classic logic gates, for reversible computing. \n",
    "\n",
    "Classical bits are essentially non-reversible. Functions such as $x\\land y=z$ cannot be solved for $x$ given $y$ and $z$, in general. Data is lost. Computation can be divided into reversable computing an erasure. Erasure seems to be in integrable part or computing, as data locations are overwritten, and by this familiarity, not very remarkable.\n",
    "\n",
    "But it is remarkable because thermodynamically, computation is free. What costs energy is erasure. Fredkin and Toffoli got there gates named after them because they were investigating reversible classical computation. They arrived at a billard ball computer using their gates that, in the ideal situation of completely elastic collissions, computed with out energy loss. \n",
    "\n",
    "On the other hand, to erase information requires the Landauer Energy of $k_B\\,T\\ln 2$ per bit, where\n",
    "$k_B$ is the Boltzmann constant.\n",
    "\n",
    "The xor gate is a classical, reversible gate, the analog of the CNOT. Is it possible to build a Toffoli from xors? No. It is not possible. Toffoli and Fredkin had to propose the gate. However, it is possible to build an xor from a Toffoli, as well as every other logical gate. The Toffoli gate is the universal gate for reversible classical computation.\n"
   ]
  },
  {
   "cell_type": "markdown",
   "id": "52532591-6f46-40df-acb4-9e6b36a1f239",
   "metadata": {},
   "source": []
  }
 ],
 "metadata": {
  "kernelspec": {
   "display_name": "Python 3 (ipykernel)",
   "language": "python",
   "name": "python3"
  },
  "language_info": {
   "codemirror_mode": {
    "name": "ipython",
    "version": 3
   },
   "file_extension": ".py",
   "mimetype": "text/x-python",
   "name": "python",
   "nbconvert_exporter": "python",
   "pygments_lexer": "ipython3",
   "version": "3.12.5"
  }
 },
 "nbformat": 4,
 "nbformat_minor": 5
}
