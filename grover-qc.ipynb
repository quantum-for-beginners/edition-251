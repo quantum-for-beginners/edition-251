{
 "cells": [
  {
   "cell_type": "markdown",
   "id": "10ce0b41-8f8e-4a22-a691-36c2d7ceb62a",
   "metadata": {},
   "source": [
    "---\n",
    "\n",
    "##  The Grover Algorithm: Implementation\n",
    "\n",
    "_course: quantum cryptography for beginners\n",
    "<br>date: 11 november 2024\n",
    "<br>author: burton rosenberg_\n",
    "\n",
    "---\n"
   ]
  },
  {
   "cell_type": "code",
   "execution_count": 1,
   "id": "6b3ac43b-ad6d-4d6a-bafc-dca0dad857ed",
   "metadata": {},
   "outputs": [
    {
     "name": "stdout",
     "output_type": "stream",
     "text": [
      "\n",
      "qiskit version: 1.1.2\n",
      "\n"
     ]
    }
   ],
   "source": [
    "import qiskit\n",
    "from qiskit import QuantumCircuit\n",
    "from qiskit.quantum_info import Statevector, Operator, Pauli \n",
    "from qiskit.visualization import plot_bloch_multivector, plot_bloch_vector\n",
    "from IPython.display import display, Math, HTML\n",
    "import time, math\n",
    "from qiskit.providers.basic_provider import BasicSimulator\n",
    "from qiskit import QuantumRegister, ClassicalRegister\n",
    "from qiskit.circuit import Parameter\n",
    "\n",
    "print(f'\\nqiskit version: {qiskit.version.get_version_info()}\\n')\n",
    "\n",
    "import math\n",
    "import numpy as np\n",
    "import matplotlib.pyplot as plt"
   ]
  },
  {
   "cell_type": "markdown",
   "id": "9d420ca5-10d5-4abb-a387-98b98d000454",
   "metadata": {},
   "source": [
    "\n",
    "### Implementing the reflection\n",
    "\n",
    "To implement the Grover Algorithm we need to implement two refections. The oracle reflection:\n",
    "\n",
    "$$\n",
    "U_f:\\;|\\phi\\rangle \\longrightarrow \\sum_i (-1)^{(i==j)}\\,|i\\rangle\n",
    "$$\n",
    "\n",
    "and the flip around the average,\n",
    "\n",
    "$$\n",
    "    U_{r'} = 2 |h_0\\rangle\\langle h_0| - I\n",
    "$$\n",
    "\n",
    "Where $h_0$ is the result of putting zero through a bank of Hadamard transfomations,\n",
    "\n",
    "$$\n",
    "  h_0 = H^{n} |0\\rangle\n",
    "$$\n",
    "\n",
    "and in general the Walsh-Hadamard basis is,\n",
    "\n",
    "$$\n",
    " h_i = H^{n} |i\\rangle\n",
    "$$\n",
    "\n",
    "The vectors in this basis are remarkably a pattern of +1's and -1's that described as,\n",
    "\n",
    "$$\n",
    "H^{n} |i\\rangle = \\sum_j (-1)^{i\\cdot j}\\,|i\\rangle\n",
    "$$\n",
    "\n",
    "where $i\\cdot j$ is the inner product in $\\mathbb{F}_2{}^n$. For $n=4$, the table of $(-1)^{i\\cdot j}$ is,\n",
    "\n",
    "\n",
    "|  i &bsol; j | 0 | 1 | 2 | 3 |\n",
    "| ---- | ---- | ---- | ---- | ---- |\n",
    "| 0 | +1 | +1 | +1 | +1 |\n",
    "| 1 | +1 | -1 | +1 | -1 |\n",
    "| 2 | +1 | +1 | -1 | -1 |\n",
    "| 3 | +1 | -1 | -1 | +1 |\n",
    "\n",
    "In fact, we do not reflect around $h_0$ rather around its perpendicular in the plane containing it and the vector $|j\\rangle$,\n",
    "the vector representing the unknown. This upsets our plan by a minus sign, as the two reflections differ by a half rotation $x\\rightarrow -x$,\n",
    "\n",
    "\\begin{eqnarray}\n",
    "U_r &=& -U_{r'} \\\\\n",
    "&=& I - 2 |h_0\\rangle\\langle h_0|  \\\\\n",
    "&=& \\sum_i |h_i\\rangle \\langle h_i | - 2 |h_0\\rangle\\langle h_0| \\\\\n",
    "&=& \\sum_i (-1)^{i==0}\\, |h_i\\rangle \\langle h_i | \n",
    "\\end{eqnarray}\n",
    "\n",
    "The final element is how to reflect around $|i\\rangle$, expressed as,\n",
    "\n",
    "$$\n",
    "U_i  = \\sum_j (-1)^{i==j}\\,\\,|j\\rangle\n",
    "$$\n",
    "\n",
    "This is done with a controlled Z gate, applied to any qubit and controlled by all the remaining qubits. \n",
    "\n",
    "To reflect around $|0\\rangle$, negate with an X all but one of the qubits, use Tofolli gates and ancillas as needed to logically and (classical) all the qubits, and use the result as the control to a controlled Z on the uninverted qubit. Then uncompute the anciliaries and the X negations.\n",
    "\n"
   ]
  },
  {
   "cell_type": "code",
   "execution_count": 36,
   "id": "a6333fe2-5025-4349-a135-2006e183d1d5",
   "metadata": {},
   "outputs": [
    {
     "data": {
      "image/png": "[encoded data removed]",
      "text/plain": [
       "<Figure size 872.774x367.889 with 1 Axes>"
      ]
     },
     "metadata": {},
     "output_type": "display_data"
    },
    {
     "data": {
      "text/latex": [
       "$$\\frac{3}{4} |0000\\rangle- \\frac{1}{4} |0001\\rangle- \\frac{1}{4} |0010\\rangle- \\frac{1}{4} |0011\\rangle- \\frac{1}{4} |0100\\rangle- \\frac{1}{4} |0101\\rangle- \\frac{1}{4} |0110\\rangle- \\frac{1}{4} |0111\\rangle$$"
      ],
      "text/plain": [
       "<IPython.core.display.Latex object>"
      ]
     },
     "metadata": {},
     "output_type": "display_data"
    },
    {
     "name": "stdout",
     "output_type": "stream",
     "text": [
      "True\n"
     ]
    }
   ],
   "source": [
    "\n",
    "# I - 2 |phi_0><phi_0|\n",
    "\n",
    "# any output of the H except all one's should be fixed. \n",
    "# the all one's should invert (-1)\n",
    "# and simple spikes should be -1/4 for all but 3/4 for the spike\n",
    "\n",
    "\n",
    "np.set_printoptions(precision=2,floatmode='fixed',suppress=True)\n",
    "\n",
    "def Ur_3(qc):\n",
    "    for i in range(3):\n",
    "        qc.h(i)\n",
    "        qc.x(i)\n",
    "    qc.ccx(0,1,3)\n",
    "    qc.cz(3,2)\n",
    "    qc.ccx(0,1,3)\n",
    "    for i in range(3):\n",
    "        qc.x(i)\n",
    "        qc.h(i)\n",
    "    qc.barrier()\n",
    "    return qc\n",
    "\n",
    "\n",
    "qc = QuantumCircuit(4)\n",
    "qc.barrier()\n",
    "sv = Ur_3(qc)\n",
    "\n",
    "sv = Statevector(ur_3)\n",
    "display(ur_3.draw('mpl'))\n",
    "display(sv.draw('latex'))\n",
    "print(sv.equiv(sv))"
   ]
  },
  {
   "cell_type": "code",
   "execution_count": null,
   "id": "b7015a9c-f93e-4a4a-a705-59ee0388be62",
   "metadata": {},
   "outputs": [],
   "source": []
  },
  {
   "cell_type": "code",
   "execution_count": null,
   "id": "d69592e4-0cd2-42de-bd74-f7a186694bf6",
   "metadata": {},
   "outputs": [],
   "source": []
  }
 ],
 "metadata": {
  "kernelspec": {
   "display_name": "Python 3 (ipykernel)",
   "language": "python",
   "name": "python3"
  },
  "language_info": {
   "codemirror_mode": {
    "name": "ipython",
    "version": 3
   },
   "file_extension": ".py",
   "mimetype": "text/x-python",
   "name": "python",
   "nbconvert_exporter": "python",
   "pygments_lexer": "ipython3",
   "version": "3.12.5"
  }
 },
 "nbformat": 4,
 "nbformat_minor": 5
}
