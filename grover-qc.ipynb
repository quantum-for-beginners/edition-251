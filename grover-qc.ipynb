{
 "cells": [
  {
   "cell_type": "markdown",
   "id": "10ce0b41-8f8e-4a22-a691-36c2d7ceb62a",
   "metadata": {},
   "source": [
    "---\n",
    "\n",
    "##  The Grover Algorithm: Implementation\n",
    "\n",
    "_course: quantum cryptography for beginners\n",
    "<br>date: 11 november 2024\n",
    "<br>author: burton rosenberg_\n",
    "\n",
    "---\n"
   ]
  },
  {
   "cell_type": "code",
   "execution_count": 1,
   "id": "6b3ac43b-ad6d-4d6a-bafc-dca0dad857ed",
   "metadata": {},
   "outputs": [
    {
     "name": "stdout",
     "output_type": "stream",
     "text": [
      "\n",
      "qiskit version: 1.1.2\n",
      "\n"
     ]
    }
   ],
   "source": [
    "import qiskit\n",
    "from qiskit import QuantumCircuit\n",
    "from qiskit.quantum_info import Statevector, Operator, Pauli \n",
    "from qiskit.visualization import plot_bloch_multivector, plot_bloch_vector\n",
    "from IPython.display import display, Math, HTML\n",
    "import time, math\n",
    "from qiskit.providers.basic_provider import BasicSimulator\n",
    "from qiskit import QuantumRegister, ClassicalRegister\n",
    "from qiskit.circuit import Parameter\n",
    "\n",
    "print(f'\\nqiskit version: {qiskit.version.get_version_info()}\\n')\n",
    "\n",
    "import math\n",
    "import numpy as np\n",
    "import matplotlib.pyplot as plt"
   ]
  },
  {
   "cell_type": "markdown",
   "id": "9d420ca5-10d5-4abb-a387-98b98d000454",
   "metadata": {},
   "source": [
    "\n",
    "### Implementing the reflection\n",
    "\n",
    "To implement the Grover Algorithm we need to implement two refections. The oracle reflection:\n",
    "\n",
    "$$\n",
    "U_f:\\;|\\phi\\rangle \\longrightarrow \\sum_i (-1)^{(i==j)}\\,|i\\rangle\n",
    "$$\n",
    "\n",
    "and the flip around the average,\n",
    "\n",
    "$$\n",
    "    U_{r'} = 2 |h_0\\rangle\\langle h_0| - I\n",
    "$$\n",
    "\n",
    "Where $h_0$ is the result of putting zero through a bank of Hadamard transfomations,\n",
    "\n",
    "$$\n",
    "  h_0 = H^{n} |0\\rangle\n",
    "$$\n",
    "\n",
    "and in general the Walsh-Hadamard basis is,\n",
    "\n",
    "$$\n",
    " h_i = H^{n} |i\\rangle\n",
    "$$\n",
    "\n",
    "The vectors in this basis are remarkably a pattern of +1's and -1's that described as,\n",
    "\n",
    "$$\n",
    "H^{n} |i\\rangle = \\sum_j (-1)^{i\\cdot j}\\,|i\\rangle\n",
    "$$\n",
    "\n",
    "where $i\\cdot j$ is the inner product in $\\mathbb{F}_2{}^n$. For $n=4$, the table of $(-1)^{i\\cdot j}$ is,\n",
    "\n",
    "\n",
    "|  i &bsol; j | 0 | 1 | 2 | 3 |\n",
    "| ---- | ---- | ---- | ---- | ---- |\n",
    "| 0 | +1 | +1 | +1 | +1 |\n",
    "| 1 | +1 | -1 | +1 | -1 |\n",
    "| 2 | +1 | +1 | -1 | -1 |\n",
    "| 3 | +1 | -1 | -1 | +1 |\n",
    "\n",
    "In fact, we do not reflect around $h_0$ rather around its perpendicular in the plane containing it and the vector $|j\\rangle$,\n",
    "the vector representing the unknown. This upsets our plan by a minus sign, as the two reflections differ by a half rotation $x\\rightarrow -x$,\n",
    "\n",
    "\\begin{eqnarray}\n",
    "U_r &=& -U_{r'} \\\\\n",
    "&=& I - 2 |h_0\\rangle\\langle h_0|  \\\\\n",
    "&=& \\sum_i |h_i\\rangle \\langle h_i | - 2 |h_0\\rangle\\langle h_0| \\\\\n",
    "&=& \\sum_i (-1)^{i==0}\\, |h_i\\rangle \\langle h_i | \n",
    "\\end{eqnarray}\n",
    "\n",
    "The final element is how to reflect around $|i\\rangle$, expressed as,\n",
    "\n",
    "$$\n",
    "U_i  = \\sum_j (-1)^{i==j}\\,\\,|j\\rangle\n",
    "$$\n",
    "\n",
    "\n"
   ]
  },
  {
   "cell_type": "markdown",
   "id": "0e41c148-4279-40ea-82ec-fc516565cc83",
   "metadata": {},
   "source": [
    "### The Reflection around average\n",
    "\n",
    "We implement,\n",
    "\n",
    "$$\n",
    " I - 2 |h_0\\rangle\\langle h_0|\n",
    "$$\n",
    "\n",
    "We rotate the coordinate system to the $H$ basis $\\{\\, h_i = H^{\\otimes n}|i\\rangle\\,\\}$. In this basis our task is to \n",
    "negate the $|0\\rangle$ vector and leave the rest unchanged. \n",
    "\n",
    "One way to do this is negate all qubits with $X$ gates\n",
    "and take the logical and with a cascade of Toffoli gates and ancillas over all but one qubit. \n",
    "The reserved qubit and the result are acted upon by a controlled Z to effectuate the sign change.\n",
    "\n",
    "Then we uncompute the \"and cascade\" to return the ancillas to zero and the $X$ inverts.\n",
    "\n"
   ]
  },
  {
   "cell_type": "code",
   "execution_count": 2,
   "id": "a6333fe2-5025-4349-a135-2006e183d1d5",
   "metadata": {},
   "outputs": [
    {
     "data": {
      "image/png": "[encoded data removed]",
      "text/plain": [
       "<Figure size 872.774x367.889 with 1 Axes>"
      ]
     },
     "metadata": {},
     "output_type": "display_data"
    },
    {
     "data": {
      "text/latex": [
       "$$\\frac{3}{4} |0000\\rangle- \\frac{1}{4} |0001\\rangle- \\frac{1}{4} |0010\\rangle- \\frac{1}{4} |0011\\rangle- \\frac{1}{4} |0100\\rangle- \\frac{1}{4} |0101\\rangle- \\frac{1}{4} |0110\\rangle- \\frac{1}{4} |0111\\rangle$$"
      ],
      "text/plain": [
       "<IPython.core.display.Latex object>"
      ]
     },
     "metadata": {},
     "output_type": "display_data"
    },
    {
     "name": "stdout",
     "output_type": "stream",
     "text": [
      "True\n"
     ]
    }
   ],
   "source": [
    "\n",
    "# I - 2 |phi_0><phi_0|\n",
    "\n",
    "# any output of the H except all one's should be fixed. \n",
    "# the all one's should invert (-1)\n",
    "# and simple spikes should be -1/4 for all but 3/4 for the spike\n",
    "\n",
    "\n",
    "np.set_printoptions(precision=2,floatmode='fixed',suppress=True)\n",
    "\n",
    "def Ur_3(qc):\n",
    "    for i in range(3):\n",
    "        qc.h(i)\n",
    "        qc.x(i)\n",
    "    qc.ccx(0,1,3)\n",
    "    qc.cz(3,2)\n",
    "    qc.ccx(0,1,3)\n",
    "    for i in range(3):\n",
    "        qc.x(i)\n",
    "        qc.h(i)\n",
    "    qc.barrier()\n",
    "    return qc\n",
    "\n",
    "\n",
    "qc = QuantumCircuit(4)\n",
    "qc.barrier()\n",
    "Ur_3(qc)\n",
    "\n",
    "sv = Statevector(qc)\n",
    "display(qc.draw('mpl'))\n",
    "display(sv.draw('latex'))\n",
    "print(sv.equiv(sv))"
   ]
  },
  {
   "cell_type": "markdown",
   "id": "5e1492fa-9d48-4ffb-aef8-6a629012fd68",
   "metadata": {},
   "source": [
    "### The Query Oracle Reflection\n",
    "\n",
    "The querey reflection points out the hidden bit $j$ by the map \n",
    "$$\n",
    "|i\\rangle \\mapsto (-1)^{i==j}|i\\rangle.\n",
    "$$\n",
    "A standard almost classical combination of $X$ gates and a Toffoli cascade to take a logical and, completed with a controlled\n",
    "$Z$ to apply the sign change; where the final $Z$ can include one of the qubits in the and as naturally part of its operation."
   ]
  },
  {
   "cell_type": "code",
   "execution_count": 3,
   "id": "b7015a9c-f93e-4a4a-a705-59ee0388be62",
   "metadata": {},
   "outputs": [
    {
     "data": {
      "image/png": "[encoded data removed]",
      "text/plain": [
       "<Figure size 621.941x367.889 with 1 Axes>"
      ]
     },
     "metadata": {},
     "output_type": "display_data"
    },
    {
     "data": {
      "text/latex": [
       "$$ |0000\\rangle$$"
      ],
      "text/plain": [
       "<IPython.core.display.Latex object>"
      ]
     },
     "metadata": {},
     "output_type": "display_data"
    }
   ],
   "source": [
    "### the reflection around |j>  => I - 2 |j><j|\n",
    "### this is negating at the j-th index and can be done by Toffoli gates and a controlled Z\n",
    "\n",
    "\n",
    "def reflect_j_3(qc,n,j):\n",
    "    assert n==3\n",
    "    assert qc.num_qubits==(n+1)\n",
    "    j_save  = j\n",
    "    for i in range (n):\n",
    "        if j%2==0:\n",
    "            qc.x(i)\n",
    "        j = j//2 \n",
    "    # in the case of 3\n",
    "    qc.ccx(0,1,3)\n",
    "    qc.cz(2,3)\n",
    "    # uncompute\n",
    "    qc.ccx(0,1,3)\n",
    "    j = j_save\n",
    "    for i in range (n):\n",
    "        if j%2==0:\n",
    "            qc.x(i)\n",
    "        j = j//2 \n",
    "    qc.barrier()\n",
    "    return Statevector(qc), qc\n",
    "\n",
    "n = 3\n",
    "qc = QuantumCircuit(n+1)\n",
    "sv, qc, = reflect_j_3(qc,n,5)\n",
    "display(qc.draw('mpl'))\n",
    "display(sv.draw('latex'))"
   ]
  },
  {
   "cell_type": "markdown",
   "id": "083a9f34-6e8c-442d-a6d4-f3c81a2c794b",
   "metadata": {},
   "source": [
    "### Simon's Iteration\n",
    "\n",
    "Starting from $h_0$, iterate $R_j$ with $R_{h_0}$ for a precise number of iterations then measure. Here we iterate and watch, intent more on understanding the path of the Simon iteration than the result. \n",
    "\n",
    "A description I found common is the notion that the Simon's iteration distills out the answer, or some similar explanation. For instance, the reflection $R_{h_0}$ is around the average, and it is explained that with each iteration the probability weight is transfered from uniform towards an obseration of $|j\\rangle$.\n",
    "\n",
    "While that is true, it avoids considering what happens if one over-iterates; the state vector effortlessly continues its circular path past the \"answer\" configuration and the probabilty weight is transfered back toward the mean.\n",
    "\n",
    "We demonstrate this in our experiment. \n",
    "\n",
    "Hence I feel the explanations that imply Simon's is deliberately solving this problem I feel are misleading.\n",
    "The iteration,\n",
    "\n",
    "- takes a state vector on a circular path that passes close to the answer vector,\n",
    "- and gives the iterate at which it will be the closest.\n",
    "\n",
    "What is remarkable is that the reflection can be done in time $O(n)$, whereas on a classical computer it would take time $O(N)$. The time to take the reflection is based on the depth needed to describe the transformation, which we found can be described compactly.\n"
   ]
  },
  {
   "cell_type": "code",
   "execution_count": 4,
   "id": "d69592e4-0cd2-42de-bd74-f7a186694bf6",
   "metadata": {},
   "outputs": [
    {
     "data": {
      "text/plain": [
       "0"
      ]
     },
     "metadata": {},
     "output_type": "display_data"
    },
    {
     "data": {
      "text/latex": [
       "$$\\frac{\\sqrt{2}}{4} |0000\\rangle+\\frac{\\sqrt{2}}{4} |0001\\rangle+\\frac{\\sqrt{2}}{4} |0010\\rangle+\\frac{\\sqrt{2}}{4} |0011\\rangle+\\frac{\\sqrt{2}}{4} |0100\\rangle+\\frac{\\sqrt{2}}{4} |0101\\rangle+\\frac{\\sqrt{2}}{4} |0110\\rangle+\\frac{\\sqrt{2}}{4} |0111\\rangle$$"
      ],
      "text/plain": [
       "<IPython.core.display.Latex object>"
      ]
     },
     "metadata": {},
     "output_type": "display_data"
    },
    {
     "data": {
      "text/plain": [
       "0"
      ]
     },
     "metadata": {},
     "output_type": "display_data"
    },
    {
     "data": {
      "text/latex": [
       "$$-0.1767766953 |0000\\rangle-0.1767766953 |0001\\rangle-0.8838834765 |0010\\rangle-0.1767766953 |0011\\rangle-0.1767766953 |0100\\rangle-0.1767766953 |0101\\rangle-0.1767766953 |0110\\rangle-0.1767766953 |0111\\rangle$$"
      ],
      "text/plain": [
       "<IPython.core.display.Latex object>"
      ]
     },
     "metadata": {},
     "output_type": "display_data"
    },
    {
     "data": {
      "text/plain": [
       "1"
      ]
     },
     "metadata": {},
     "output_type": "display_data"
    },
    {
     "data": {
      "text/latex": [
       "$$-0.0883883476 |0000\\rangle-0.0883883476 |0001\\rangle+0.9722718241 |0010\\rangle-0.0883883476 |0011\\rangle-0.0883883476 |0100\\rangle-0.0883883476 |0101\\rangle-0.0883883476 |0110\\rangle-0.0883883476 |0111\\rangle$$"
      ],
      "text/plain": [
       "<IPython.core.display.Latex object>"
      ]
     },
     "metadata": {},
     "output_type": "display_data"
    }
   ],
   "source": [
    "## try this out\n",
    "\n",
    "def grover_iteration(qc,n,h):\n",
    "    reflect_j_3(qc,n,h)\n",
    "    Ur_3(qc)\n",
    "\n",
    "# start with h_0\n",
    "n = 3\n",
    "h = 2  # hidden\n",
    "qc = QuantumCircuit(n+1)\n",
    "for i in range(n):\n",
    "    qc.h(i)\n",
    "qc.barrier()\n",
    "display(0, Statevector(qc).draw('latex'))\n",
    "\n",
    "\n",
    "total_phases = 2\n",
    "for phase in range(total_phases):\n",
    "    grover_iteration(qc,n,h)\n",
    "    display(phase, Statevector(qc).draw('latex'))\n",
    "\n"
   ]
  },
  {
   "cell_type": "markdown",
   "id": "3c82efe4-85c5-4c7f-ba4d-cddd4b4252ab",
   "metadata": {},
   "source": [
    "#### End"
   ]
  },
  {
   "cell_type": "code",
   "execution_count": null,
   "id": "0d5e4f3d-1f92-4ec7-b22a-7d1aed12c143",
   "metadata": {},
   "outputs": [],
   "source": []
  }
 ],
 "metadata": {
  "kernelspec": {
   "display_name": "Python 3 (ipykernel)",
   "language": "python",
   "name": "python3"
  },
  "language_info": {
   "codemirror_mode": {
    "name": "ipython",
    "version": 3
   },
   "file_extension": ".py",
   "mimetype": "text/x-python",
   "name": "python",
   "nbconvert_exporter": "python",
   "pygments_lexer": "ipython3",
   "version": "3.12.5"
  }
 },
 "nbformat": 4,
 "nbformat_minor": 5
}
