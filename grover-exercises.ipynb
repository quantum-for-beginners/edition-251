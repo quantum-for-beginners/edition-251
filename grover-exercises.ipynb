{
 "cells": [
  {
   "cell_type": "markdown",
   "id": "9721f9e3-2d54-4f23-adb5-728bf1eccb9e",
   "metadata": {},
   "source": [
    "---\n",
    "\n",
    "##  The Grover Algorithm: Exercises\n",
    "\n",
    "_course: quantum cryptography for beginners\n",
    "<br>date: 12 november 2024\n",
    "<br>author: burton rosenberg_\n",
    "\n",
    "---\n"
   ]
  },
  {
   "cell_type": "code",
   "execution_count": 1,
   "id": "8c6fcaf9-4694-470e-b47e-acfa72fc7216",
   "metadata": {},
   "outputs": [
    {
     "name": "stdout",
     "output_type": "stream",
     "text": [
      "\n",
      "qiskit version: 1.1.2\n",
      "\n"
     ]
    }
   ],
   "source": [
    "import qiskit\n",
    "from qiskit import QuantumCircuit\n",
    "from qiskit.quantum_info import Statevector, Operator, Pauli \n",
    "from qiskit.visualization import plot_bloch_multivector, plot_bloch_vector\n",
    "from IPython.display import display, Math, HTML\n",
    "import time, math\n",
    "from qiskit.providers.basic_provider import BasicSimulator\n",
    "from qiskit import QuantumRegister, ClassicalRegister\n",
    "from qiskit.circuit import Parameter\n",
    "\n",
    "print(f'\\nqiskit version: {qiskit.version.get_version_info()}\\n')\n",
    "\n",
    "import math\n",
    "import numpy as np\n",
    "import matplotlib.pyplot as plt"
   ]
  },
  {
   "cell_type": "markdown",
   "id": "d295c889-28c6-4f23-8d3d-7e9a41b68563",
   "metadata": {},
   "source": [
    "#### Exercise A\n",
    "\n",
    "In the expostion at circuit $R_{h_0}$ was given that reflects over the space perpendicular to $h_0=H^{\\otimes n}|0\\rangle$. We are to experiment with this circuit show show it correct. \n",
    "\n",
    "Given\n",
    "$$\n",
    "R_{h_0} = I -2\\,|h_0\\rangle\\langle h_0|\n",
    "$$ \n",
    "what should be the result of $R_{h_0}\\,h_i$?\n",
    "\n",
    "Predict and experimentally verify.\n",
    "\n",
    "Answer: $$R_{h_0}\\,h_i= (-1)^{i==0}h_i$$\n",
    "\n",
    "Hints:\n",
    "- [Statevector.equiv](https://docs.quantum.ibm.com/api/qiskit/qiskit.quantum_info.Statevector#equiv)\n",
    "- [Statevector.inner](https://docs.quantum.ibm.com/api/qiskit/qiskit.quantum_info.Statevector#inner)"
   ]
  },
  {
   "cell_type": "code",
   "execution_count": 2,
   "id": "f67fdbcf-f703-4f65-95ec-051db5de74d0",
   "metadata": {},
   "outputs": [],
   "source": [
    "### Exercise A\n",
    "\n"
   ]
  },
  {
   "cell_type": "markdown",
   "id": "4471f13d-b0b6-4519-a6eb-290d7503523f",
   "metadata": {},
   "source": [
    "#### Exercise B\n",
    "\n",
    "With the notation as above, what should $R_{h_0} = |j\\rangle$ be?\n",
    "\n",
    "Calculate theoretical and test in the circuit"
   ]
  },
  {
   "cell_type": "code",
   "execution_count": 3,
   "id": "e4d5b9c3-566e-45c3-a824-467743bc1323",
   "metadata": {},
   "outputs": [],
   "source": [
    "### Exercise B\n"
   ]
  },
  {
   "cell_type": "markdown",
   "id": "ced7b6d3-bbb8-4010-8ba4-7bb5273a08af",
   "metadata": {},
   "source": [
    "#### Exercise C\n",
    "\n",
    "Continue the construction for general $n$.\n"
   ]
  },
  {
   "cell_type": "code",
   "execution_count": 4,
   "id": "8a8ecf40-fb63-4308-b412-4b7d0b7d2934",
   "metadata": {},
   "outputs": [],
   "source": [
    "#### Exercise C\n"
   ]
  },
  {
   "cell_type": "markdown",
   "id": "afbc80f0-4811-4160-8dfa-6c9f52f9c784",
   "metadata": {},
   "source": [
    "#### Exercise D\n",
    "\n",
    "This construction has depth $n$. Consider a circuit for which the depth is $O(\\log n)$."
   ]
  },
  {
   "cell_type": "code",
   "execution_count": 5,
   "id": "5c8102ff-8bc5-4277-80f0-e0350b26d0e2",
   "metadata": {},
   "outputs": [],
   "source": [
    "#### Exercise D\n",
    "\n"
   ]
  },
  {
   "cell_type": "markdown",
   "id": "5503dbf1-efab-4fc8-bf45-835ef9c29abe",
   "metadata": {},
   "source": [
    "----\n",
    "\n",
    "### Answers \n",
    "\n",
    "----\n",
    "\n",
    "#### Exercise A"
   ]
  },
  {
   "cell_type": "code",
   "execution_count": 18,
   "id": "71f6f2fc-decc-48a5-b1f3-7b3a2954d04d",
   "metadata": {},
   "outputs": [
    {
     "data": {
      "image/png": "[encoded data removed]",
      "text/plain": [
       "<Figure size 956.385x367.889 with 1 Axes>"
      ]
     },
     "metadata": {},
     "output_type": "display_data"
    },
    {
     "data": {
      "text/html": [
       "<hr>"
      ],
      "text/plain": [
       "<IPython.core.display.HTML object>"
      ]
     },
     "metadata": {},
     "output_type": "display_data"
    },
    {
     "data": {
      "text/latex": [
       "$\\displaystyle <h_0|R h_0> = -1.00+0.00j$"
      ],
      "text/plain": [
       "<IPython.core.display.Math object>"
      ]
     },
     "metadata": {},
     "output_type": "display_data"
    },
    {
     "data": {
      "text/plain": [
       "'s in'"
      ]
     },
     "metadata": {},
     "output_type": "display_data"
    },
    {
     "data": {
      "text/latex": [
       "$$\\frac{\\sqrt{2}}{4} |0000\\rangle+\\frac{\\sqrt{2}}{4} |0001\\rangle+\\frac{\\sqrt{2}}{4} |0010\\rangle+\\frac{\\sqrt{2}}{4} |0011\\rangle+\\frac{\\sqrt{2}}{4} |0100\\rangle+\\frac{\\sqrt{2}}{4} |0101\\rangle+\\frac{\\sqrt{2}}{4} |0110\\rangle+\\frac{\\sqrt{2}}{4} |0111\\rangle$$"
      ],
      "text/plain": [
       "<IPython.core.display.Latex object>"
      ]
     },
     "metadata": {},
     "output_type": "display_data"
    },
    {
     "data": {
      "text/plain": [
       "'s out'"
      ]
     },
     "metadata": {},
     "output_type": "display_data"
    },
    {
     "data": {
      "text/latex": [
       "$$- \\frac{\\sqrt{2}}{4} |0000\\rangle- \\frac{\\sqrt{2}}{4} |0001\\rangle- \\frac{\\sqrt{2}}{4} |0010\\rangle- \\frac{\\sqrt{2}}{4} |0011\\rangle- \\frac{\\sqrt{2}}{4} |0100\\rangle- \\frac{\\sqrt{2}}{4} |0101\\rangle- \\frac{\\sqrt{2}}{4} |0110\\rangle- \\frac{\\sqrt{2}}{4} |0111\\rangle$$"
      ],
      "text/plain": [
       "<IPython.core.display.Latex object>"
      ]
     },
     "metadata": {},
     "output_type": "display_data"
    },
    {
     "data": {
      "text/html": [
       "<hr>"
      ],
      "text/plain": [
       "<IPython.core.display.HTML object>"
      ]
     },
     "metadata": {},
     "output_type": "display_data"
    },
    {
     "data": {
      "text/latex": [
       "$\\displaystyle <h_1|R h_1> = 1.00+0.00j$"
      ],
      "text/plain": [
       "<IPython.core.display.Math object>"
      ]
     },
     "metadata": {},
     "output_type": "display_data"
    },
    {
     "data": {
      "text/plain": [
       "'s in'"
      ]
     },
     "metadata": {},
     "output_type": "display_data"
    },
    {
     "data": {
      "text/latex": [
       "$$\\frac{\\sqrt{2}}{4} |0000\\rangle- \\frac{\\sqrt{2}}{4} |0001\\rangle+\\frac{\\sqrt{2}}{4} |0010\\rangle- \\frac{\\sqrt{2}}{4} |0011\\rangle+\\frac{\\sqrt{2}}{4} |0100\\rangle- \\frac{\\sqrt{2}}{4} |0101\\rangle+\\frac{\\sqrt{2}}{4} |0110\\rangle- \\frac{\\sqrt{2}}{4} |0111\\rangle$$"
      ],
      "text/plain": [
       "<IPython.core.display.Latex object>"
      ]
     },
     "metadata": {},
     "output_type": "display_data"
    },
    {
     "data": {
      "text/plain": [
       "'s out'"
      ]
     },
     "metadata": {},
     "output_type": "display_data"
    },
    {
     "data": {
      "text/latex": [
       "$$\\frac{\\sqrt{2}}{4} |0000\\rangle- \\frac{\\sqrt{2}}{4} |0001\\rangle+\\frac{\\sqrt{2}}{4} |0010\\rangle- \\frac{\\sqrt{2}}{4} |0011\\rangle+\\frac{\\sqrt{2}}{4} |0100\\rangle- \\frac{\\sqrt{2}}{4} |0101\\rangle+\\frac{\\sqrt{2}}{4} |0110\\rangle- \\frac{\\sqrt{2}}{4} |0111\\rangle$$"
      ],
      "text/plain": [
       "<IPython.core.display.Latex object>"
      ]
     },
     "metadata": {},
     "output_type": "display_data"
    },
    {
     "data": {
      "text/html": [
       "<hr>"
      ],
      "text/plain": [
       "<IPython.core.display.HTML object>"
      ]
     },
     "metadata": {},
     "output_type": "display_data"
    },
    {
     "data": {
      "text/latex": [
       "$\\displaystyle <h_2|R h_2> = 1.00+0.00j$"
      ],
      "text/plain": [
       "<IPython.core.display.Math object>"
      ]
     },
     "metadata": {},
     "output_type": "display_data"
    },
    {
     "data": {
      "text/plain": [
       "'s in'"
      ]
     },
     "metadata": {},
     "output_type": "display_data"
    },
    {
     "data": {
      "text/latex": [
       "$$\\frac{\\sqrt{2}}{4} |0000\\rangle+\\frac{\\sqrt{2}}{4} |0001\\rangle- \\frac{\\sqrt{2}}{4} |0010\\rangle- \\frac{\\sqrt{2}}{4} |0011\\rangle+\\frac{\\sqrt{2}}{4} |0100\\rangle+\\frac{\\sqrt{2}}{4} |0101\\rangle- \\frac{\\sqrt{2}}{4} |0110\\rangle- \\frac{\\sqrt{2}}{4} |0111\\rangle$$"
      ],
      "text/plain": [
       "<IPython.core.display.Latex object>"
      ]
     },
     "metadata": {},
     "output_type": "display_data"
    },
    {
     "data": {
      "text/plain": [
       "'s out'"
      ]
     },
     "metadata": {},
     "output_type": "display_data"
    },
    {
     "data": {
      "text/latex": [
       "$$\\frac{\\sqrt{2}}{4} |0000\\rangle+\\frac{\\sqrt{2}}{4} |0001\\rangle- \\frac{\\sqrt{2}}{4} |0010\\rangle- \\frac{\\sqrt{2}}{4} |0011\\rangle+\\frac{\\sqrt{2}}{4} |0100\\rangle+\\frac{\\sqrt{2}}{4} |0101\\rangle- \\frac{\\sqrt{2}}{4} |0110\\rangle- \\frac{\\sqrt{2}}{4} |0111\\rangle$$"
      ],
      "text/plain": [
       "<IPython.core.display.Latex object>"
      ]
     },
     "metadata": {},
     "output_type": "display_data"
    },
    {
     "data": {
      "text/html": [
       "<hr>"
      ],
      "text/plain": [
       "<IPython.core.display.HTML object>"
      ]
     },
     "metadata": {},
     "output_type": "display_data"
    },
    {
     "data": {
      "text/latex": [
       "$\\displaystyle <h_3|R h_3> = 1.00+0.00j$"
      ],
      "text/plain": [
       "<IPython.core.display.Math object>"
      ]
     },
     "metadata": {},
     "output_type": "display_data"
    },
    {
     "data": {
      "text/plain": [
       "'s in'"
      ]
     },
     "metadata": {},
     "output_type": "display_data"
    },
    {
     "data": {
      "text/latex": [
       "$$\\frac{\\sqrt{2}}{4} |0000\\rangle- \\frac{\\sqrt{2}}{4} |0001\\rangle- \\frac{\\sqrt{2}}{4} |0010\\rangle+\\frac{\\sqrt{2}}{4} |0011\\rangle+\\frac{\\sqrt{2}}{4} |0100\\rangle- \\frac{\\sqrt{2}}{4} |0101\\rangle- \\frac{\\sqrt{2}}{4} |0110\\rangle+\\frac{\\sqrt{2}}{4} |0111\\rangle$$"
      ],
      "text/plain": [
       "<IPython.core.display.Latex object>"
      ]
     },
     "metadata": {},
     "output_type": "display_data"
    },
    {
     "data": {
      "text/plain": [
       "'s out'"
      ]
     },
     "metadata": {},
     "output_type": "display_data"
    },
    {
     "data": {
      "text/latex": [
       "$$\\frac{\\sqrt{2}}{4} |0000\\rangle- \\frac{\\sqrt{2}}{4} |0001\\rangle- \\frac{\\sqrt{2}}{4} |0010\\rangle+\\frac{\\sqrt{2}}{4} |0011\\rangle+\\frac{\\sqrt{2}}{4} |0100\\rangle- \\frac{\\sqrt{2}}{4} |0101\\rangle- \\frac{\\sqrt{2}}{4} |0110\\rangle+\\frac{\\sqrt{2}}{4} |0111\\rangle$$"
      ],
      "text/plain": [
       "<IPython.core.display.Latex object>"
      ]
     },
     "metadata": {},
     "output_type": "display_data"
    },
    {
     "data": {
      "text/html": [
       "<hr>"
      ],
      "text/plain": [
       "<IPython.core.display.HTML object>"
      ]
     },
     "metadata": {},
     "output_type": "display_data"
    },
    {
     "data": {
      "text/latex": [
       "$\\displaystyle <h_4|R h_4> = 1.00+0.00j$"
      ],
      "text/plain": [
       "<IPython.core.display.Math object>"
      ]
     },
     "metadata": {},
     "output_type": "display_data"
    },
    {
     "data": {
      "text/plain": [
       "'s in'"
      ]
     },
     "metadata": {},
     "output_type": "display_data"
    },
    {
     "data": {
      "text/latex": [
       "$$\\frac{\\sqrt{2}}{4} |0000\\rangle+\\frac{\\sqrt{2}}{4} |0001\\rangle+\\frac{\\sqrt{2}}{4} |0010\\rangle+\\frac{\\sqrt{2}}{4} |0011\\rangle- \\frac{\\sqrt{2}}{4} |0100\\rangle- \\frac{\\sqrt{2}}{4} |0101\\rangle- \\frac{\\sqrt{2}}{4} |0110\\rangle- \\frac{\\sqrt{2}}{4} |0111\\rangle$$"
      ],
      "text/plain": [
       "<IPython.core.display.Latex object>"
      ]
     },
     "metadata": {},
     "output_type": "display_data"
    },
    {
     "data": {
      "text/plain": [
       "'s out'"
      ]
     },
     "metadata": {},
     "output_type": "display_data"
    },
    {
     "data": {
      "text/latex": [
       "$$\\frac{\\sqrt{2}}{4} |0000\\rangle+\\frac{\\sqrt{2}}{4} |0001\\rangle+\\frac{\\sqrt{2}}{4} |0010\\rangle+\\frac{\\sqrt{2}}{4} |0011\\rangle- \\frac{\\sqrt{2}}{4} |0100\\rangle- \\frac{\\sqrt{2}}{4} |0101\\rangle- \\frac{\\sqrt{2}}{4} |0110\\rangle- \\frac{\\sqrt{2}}{4} |0111\\rangle$$"
      ],
      "text/plain": [
       "<IPython.core.display.Latex object>"
      ]
     },
     "metadata": {},
     "output_type": "display_data"
    },
    {
     "data": {
      "text/html": [
       "<hr>"
      ],
      "text/plain": [
       "<IPython.core.display.HTML object>"
      ]
     },
     "metadata": {},
     "output_type": "display_data"
    },
    {
     "data": {
      "text/latex": [
       "$\\displaystyle <h_5|R h_5> = 1.00+0.00j$"
      ],
      "text/plain": [
       "<IPython.core.display.Math object>"
      ]
     },
     "metadata": {},
     "output_type": "display_data"
    },
    {
     "data": {
      "text/plain": [
       "'s in'"
      ]
     },
     "metadata": {},
     "output_type": "display_data"
    },
    {
     "data": {
      "text/latex": [
       "$$\\frac{\\sqrt{2}}{4} |0000\\rangle- \\frac{\\sqrt{2}}{4} |0001\\rangle+\\frac{\\sqrt{2}}{4} |0010\\rangle- \\frac{\\sqrt{2}}{4} |0011\\rangle- \\frac{\\sqrt{2}}{4} |0100\\rangle+\\frac{\\sqrt{2}}{4} |0101\\rangle- \\frac{\\sqrt{2}}{4} |0110\\rangle+\\frac{\\sqrt{2}}{4} |0111\\rangle$$"
      ],
      "text/plain": [
       "<IPython.core.display.Latex object>"
      ]
     },
     "metadata": {},
     "output_type": "display_data"
    },
    {
     "data": {
      "text/plain": [
       "'s out'"
      ]
     },
     "metadata": {},
     "output_type": "display_data"
    },
    {
     "data": {
      "text/latex": [
       "$$\\frac{\\sqrt{2}}{4} |0000\\rangle- \\frac{\\sqrt{2}}{4} |0001\\rangle+\\frac{\\sqrt{2}}{4} |0010\\rangle- \\frac{\\sqrt{2}}{4} |0011\\rangle- \\frac{\\sqrt{2}}{4} |0100\\rangle+\\frac{\\sqrt{2}}{4} |0101\\rangle- \\frac{\\sqrt{2}}{4} |0110\\rangle+\\frac{\\sqrt{2}}{4} |0111\\rangle$$"
      ],
      "text/plain": [
       "<IPython.core.display.Latex object>"
      ]
     },
     "metadata": {},
     "output_type": "display_data"
    },
    {
     "data": {
      "text/html": [
       "<hr>"
      ],
      "text/plain": [
       "<IPython.core.display.HTML object>"
      ]
     },
     "metadata": {},
     "output_type": "display_data"
    },
    {
     "data": {
      "text/latex": [
       "$\\displaystyle <h_6|R h_6> = 1.00+0.00j$"
      ],
      "text/plain": [
       "<IPython.core.display.Math object>"
      ]
     },
     "metadata": {},
     "output_type": "display_data"
    },
    {
     "data": {
      "text/plain": [
       "'s in'"
      ]
     },
     "metadata": {},
     "output_type": "display_data"
    },
    {
     "data": {
      "text/latex": [
       "$$\\frac{\\sqrt{2}}{4} |0000\\rangle+\\frac{\\sqrt{2}}{4} |0001\\rangle- \\frac{\\sqrt{2}}{4} |0010\\rangle- \\frac{\\sqrt{2}}{4} |0011\\rangle- \\frac{\\sqrt{2}}{4} |0100\\rangle- \\frac{\\sqrt{2}}{4} |0101\\rangle+\\frac{\\sqrt{2}}{4} |0110\\rangle+\\frac{\\sqrt{2}}{4} |0111\\rangle$$"
      ],
      "text/plain": [
       "<IPython.core.display.Latex object>"
      ]
     },
     "metadata": {},
     "output_type": "display_data"
    },
    {
     "data": {
      "text/plain": [
       "'s out'"
      ]
     },
     "metadata": {},
     "output_type": "display_data"
    },
    {
     "data": {
      "text/latex": [
       "$$\\frac{\\sqrt{2}}{4} |0000\\rangle+\\frac{\\sqrt{2}}{4} |0001\\rangle- \\frac{\\sqrt{2}}{4} |0010\\rangle- \\frac{\\sqrt{2}}{4} |0011\\rangle- \\frac{\\sqrt{2}}{4} |0100\\rangle- \\frac{\\sqrt{2}}{4} |0101\\rangle+\\frac{\\sqrt{2}}{4} |0110\\rangle+\\frac{\\sqrt{2}}{4} |0111\\rangle$$"
      ],
      "text/plain": [
       "<IPython.core.display.Latex object>"
      ]
     },
     "metadata": {},
     "output_type": "display_data"
    },
    {
     "data": {
      "text/html": [
       "<hr>"
      ],
      "text/plain": [
       "<IPython.core.display.HTML object>"
      ]
     },
     "metadata": {},
     "output_type": "display_data"
    },
    {
     "data": {
      "text/latex": [
       "$\\displaystyle <h_7|R h_7> = 1.00+0.00j$"
      ],
      "text/plain": [
       "<IPython.core.display.Math object>"
      ]
     },
     "metadata": {},
     "output_type": "display_data"
    },
    {
     "data": {
      "text/plain": [
       "'s in'"
      ]
     },
     "metadata": {},
     "output_type": "display_data"
    },
    {
     "data": {
      "text/latex": [
       "$$\\frac{\\sqrt{2}}{4} |0000\\rangle- \\frac{\\sqrt{2}}{4} |0001\\rangle- \\frac{\\sqrt{2}}{4} |0010\\rangle+\\frac{\\sqrt{2}}{4} |0011\\rangle- \\frac{\\sqrt{2}}{4} |0100\\rangle+\\frac{\\sqrt{2}}{4} |0101\\rangle+\\frac{\\sqrt{2}}{4} |0110\\rangle- \\frac{\\sqrt{2}}{4} |0111\\rangle$$"
      ],
      "text/plain": [
       "<IPython.core.display.Latex object>"
      ]
     },
     "metadata": {},
     "output_type": "display_data"
    },
    {
     "data": {
      "text/plain": [
       "'s out'"
      ]
     },
     "metadata": {},
     "output_type": "display_data"
    },
    {
     "data": {
      "text/latex": [
       "$$\\frac{\\sqrt{2}}{4} |0000\\rangle- \\frac{\\sqrt{2}}{4} |0001\\rangle- \\frac{\\sqrt{2}}{4} |0010\\rangle+\\frac{\\sqrt{2}}{4} |0011\\rangle- \\frac{\\sqrt{2}}{4} |0100\\rangle+\\frac{\\sqrt{2}}{4} |0101\\rangle+\\frac{\\sqrt{2}}{4} |0110\\rangle- \\frac{\\sqrt{2}}{4} |0111\\rangle$$"
      ],
      "text/plain": [
       "<IPython.core.display.Latex object>"
      ]
     },
     "metadata": {},
     "output_type": "display_data"
    }
   ],
   "source": [
    "\n",
    "# I - 2 |phi_0><phi_0|\n",
    "\n",
    "# any output of the H except all one's should be fixed. \n",
    "# the all one's should invert (-1)\n",
    "# and simple spikes should be -1/4 for all but 3/4 for the spike\n",
    "\n",
    "\n",
    "def hadamard_basis(qc,n,i):\n",
    "    for j in range(n):\n",
    "        if i%2==1:\n",
    "            qc.x(j)\n",
    "        i = i//2\n",
    "    for j in range(n):\n",
    "        qc.h(j)\n",
    "    qc.barrier()\n",
    "    return Statevector(qc), qc\n",
    "    \n",
    "\n",
    "def Ur_3(qc):\n",
    "    for i in range(3):\n",
    "        qc.h(i)\n",
    "        qc.x(i)\n",
    "    qc.ccx(0,1,3)\n",
    "    qc.cz(3,2)\n",
    "    qc.ccx(0,1,3)\n",
    "    for i in range(3):\n",
    "        qc.x(i)\n",
    "        qc.h(i)\n",
    "    qc.barrier()\n",
    "    return Statevector(qc), qc\n",
    "\n",
    "def test_hadamard_basis(n, show_one=-1):\n",
    "    \n",
    "    for i in range(2**n):\n",
    "        qc = QuantumCircuit(n+1)\n",
    "        sv_in, qc = hadamard_basis(qc,n,i)\n",
    "        sv_out, qc = Ur_3(qc)\n",
    "        if show_one==i or show_one<0:\n",
    "            display(qc.draw('mpl'))\n",
    "        display(HTML(f'<hr>'))\n",
    "        display(Math(f'<h_{i}|R h_{i}> = {sv_in.inner(sv_out):.2f}'))\n",
    "        display('s in', sv_in.draw('latex'),'s out',  sv_out.draw('latex'))\n",
    "        assert sv_in.equiv(sv_out), f'Assertion failed for i={i}'\n",
    "        \n",
    "\n",
    "n = 3    \n",
    "\n",
    "test_hadamard_basis(n, show_one=0)   \n"
   ]
  },
  {
   "cell_type": "markdown",
   "id": "6fd6a59e-4d38-4da4-8050-3c9ae41de9cc",
   "metadata": {},
   "source": [
    "#### Exercise B"
   ]
  },
  {
   "cell_type": "code",
   "execution_count": 7,
   "id": "532e9b12-3488-4500-9bdf-5587b6538486",
   "metadata": {},
   "outputs": [
    {
     "data": {
      "image/png": "[encoded data removed]",
      "text/plain": [
       "<Figure size 872.774x367.889 with 1 Axes>"
      ]
     },
     "metadata": {},
     "output_type": "display_data"
    },
    {
     "data": {
      "text/html": [
       "<hr>"
      ],
      "text/plain": [
       "<IPython.core.display.HTML object>"
      ]
     },
     "metadata": {},
     "output_type": "display_data"
    },
    {
     "data": {
      "text/latex": [
       "$\\displaystyle <h_0|R h_0> = 0.75+0.00j$"
      ],
      "text/plain": [
       "<IPython.core.display.Math object>"
      ]
     },
     "metadata": {},
     "output_type": "display_data"
    },
    {
     "data": {
      "text/latex": [
       "$$ |0000\\rangle$$"
      ],
      "text/plain": [
       "<IPython.core.display.Latex object>"
      ]
     },
     "metadata": {},
     "output_type": "display_data"
    },
    {
     "data": {
      "text/latex": [
       "$$\\frac{3}{4} |0000\\rangle- \\frac{1}{4} |0001\\rangle- \\frac{1}{4} |0010\\rangle- \\frac{1}{4} |0011\\rangle- \\frac{1}{4} |0100\\rangle- \\frac{1}{4} |0101\\rangle- \\frac{1}{4} |0110\\rangle- \\frac{1}{4} |0111\\rangle$$"
      ],
      "text/plain": [
       "<IPython.core.display.Latex object>"
      ]
     },
     "metadata": {},
     "output_type": "display_data"
    },
    {
     "data": {
      "text/html": [
       "<hr>"
      ],
      "text/plain": [
       "<IPython.core.display.HTML object>"
      ]
     },
     "metadata": {},
     "output_type": "display_data"
    },
    {
     "data": {
      "text/latex": [
       "$\\displaystyle <h_1|R h_1> = 0.75+0.00j$"
      ],
      "text/plain": [
       "<IPython.core.display.Math object>"
      ]
     },
     "metadata": {},
     "output_type": "display_data"
    },
    {
     "data": {
      "text/latex": [
       "$$ |0001\\rangle$$"
      ],
      "text/plain": [
       "<IPython.core.display.Latex object>"
      ]
     },
     "metadata": {},
     "output_type": "display_data"
    },
    {
     "data": {
      "text/latex": [
       "$$- \\frac{1}{4} |0000\\rangle+\\frac{3}{4} |0001\\rangle- \\frac{1}{4} |0010\\rangle- \\frac{1}{4} |0011\\rangle- \\frac{1}{4} |0100\\rangle- \\frac{1}{4} |0101\\rangle- \\frac{1}{4} |0110\\rangle- \\frac{1}{4} |0111\\rangle$$"
      ],
      "text/plain": [
       "<IPython.core.display.Latex object>"
      ]
     },
     "metadata": {},
     "output_type": "display_data"
    },
    {
     "data": {
      "text/html": [
       "<hr>"
      ],
      "text/plain": [
       "<IPython.core.display.HTML object>"
      ]
     },
     "metadata": {},
     "output_type": "display_data"
    },
    {
     "data": {
      "text/latex": [
       "$\\displaystyle <h_2|R h_2> = 0.75+0.00j$"
      ],
      "text/plain": [
       "<IPython.core.display.Math object>"
      ]
     },
     "metadata": {},
     "output_type": "display_data"
    },
    {
     "data": {
      "text/latex": [
       "$$ |0010\\rangle$$"
      ],
      "text/plain": [
       "<IPython.core.display.Latex object>"
      ]
     },
     "metadata": {},
     "output_type": "display_data"
    },
    {
     "data": {
      "text/latex": [
       "$$- \\frac{1}{4} |0000\\rangle- \\frac{1}{4} |0001\\rangle+\\frac{3}{4} |0010\\rangle- \\frac{1}{4} |0011\\rangle- \\frac{1}{4} |0100\\rangle- \\frac{1}{4} |0101\\rangle- \\frac{1}{4} |0110\\rangle- \\frac{1}{4} |0111\\rangle$$"
      ],
      "text/plain": [
       "<IPython.core.display.Latex object>"
      ]
     },
     "metadata": {},
     "output_type": "display_data"
    },
    {
     "data": {
      "text/html": [
       "<hr>"
      ],
      "text/plain": [
       "<IPython.core.display.HTML object>"
      ]
     },
     "metadata": {},
     "output_type": "display_data"
    },
    {
     "data": {
      "text/latex": [
       "$\\displaystyle <h_3|R h_3> = 0.75+0.00j$"
      ],
      "text/plain": [
       "<IPython.core.display.Math object>"
      ]
     },
     "metadata": {},
     "output_type": "display_data"
    },
    {
     "data": {
      "text/latex": [
       "$$ |0011\\rangle$$"
      ],
      "text/plain": [
       "<IPython.core.display.Latex object>"
      ]
     },
     "metadata": {},
     "output_type": "display_data"
    },
    {
     "data": {
      "text/latex": [
       "$$- \\frac{1}{4} |0000\\rangle- \\frac{1}{4} |0001\\rangle- \\frac{1}{4} |0010\\rangle+\\frac{3}{4} |0011\\rangle- \\frac{1}{4} |0100\\rangle- \\frac{1}{4} |0101\\rangle- \\frac{1}{4} |0110\\rangle- \\frac{1}{4} |0111\\rangle$$"
      ],
      "text/plain": [
       "<IPython.core.display.Latex object>"
      ]
     },
     "metadata": {},
     "output_type": "display_data"
    },
    {
     "data": {
      "text/html": [
       "<hr>"
      ],
      "text/plain": [
       "<IPython.core.display.HTML object>"
      ]
     },
     "metadata": {},
     "output_type": "display_data"
    },
    {
     "data": {
      "text/latex": [
       "$\\displaystyle <h_4|R h_4> = 0.75+0.00j$"
      ],
      "text/plain": [
       "<IPython.core.display.Math object>"
      ]
     },
     "metadata": {},
     "output_type": "display_data"
    },
    {
     "data": {
      "text/latex": [
       "$$ |0100\\rangle$$"
      ],
      "text/plain": [
       "<IPython.core.display.Latex object>"
      ]
     },
     "metadata": {},
     "output_type": "display_data"
    },
    {
     "data": {
      "text/latex": [
       "$$- \\frac{1}{4} |0000\\rangle- \\frac{1}{4} |0001\\rangle- \\frac{1}{4} |0010\\rangle- \\frac{1}{4} |0011\\rangle+\\frac{3}{4} |0100\\rangle- \\frac{1}{4} |0101\\rangle- \\frac{1}{4} |0110\\rangle- \\frac{1}{4} |0111\\rangle$$"
      ],
      "text/plain": [
       "<IPython.core.display.Latex object>"
      ]
     },
     "metadata": {},
     "output_type": "display_data"
    },
    {
     "data": {
      "text/html": [
       "<hr>"
      ],
      "text/plain": [
       "<IPython.core.display.HTML object>"
      ]
     },
     "metadata": {},
     "output_type": "display_data"
    },
    {
     "data": {
      "text/latex": [
       "$\\displaystyle <h_5|R h_5> = 0.75+0.00j$"
      ],
      "text/plain": [
       "<IPython.core.display.Math object>"
      ]
     },
     "metadata": {},
     "output_type": "display_data"
    },
    {
     "data": {
      "text/latex": [
       "$$ |0101\\rangle$$"
      ],
      "text/plain": [
       "<IPython.core.display.Latex object>"
      ]
     },
     "metadata": {},
     "output_type": "display_data"
    },
    {
     "data": {
      "text/latex": [
       "$$- \\frac{1}{4} |0000\\rangle- \\frac{1}{4} |0001\\rangle- \\frac{1}{4} |0010\\rangle- \\frac{1}{4} |0011\\rangle- \\frac{1}{4} |0100\\rangle+\\frac{3}{4} |0101\\rangle- \\frac{1}{4} |0110\\rangle- \\frac{1}{4} |0111\\rangle$$"
      ],
      "text/plain": [
       "<IPython.core.display.Latex object>"
      ]
     },
     "metadata": {},
     "output_type": "display_data"
    },
    {
     "data": {
      "text/html": [
       "<hr>"
      ],
      "text/plain": [
       "<IPython.core.display.HTML object>"
      ]
     },
     "metadata": {},
     "output_type": "display_data"
    },
    {
     "data": {
      "text/latex": [
       "$\\displaystyle <h_6|R h_6> = 0.75+0.00j$"
      ],
      "text/plain": [
       "<IPython.core.display.Math object>"
      ]
     },
     "metadata": {},
     "output_type": "display_data"
    },
    {
     "data": {
      "text/latex": [
       "$$ |0110\\rangle$$"
      ],
      "text/plain": [
       "<IPython.core.display.Latex object>"
      ]
     },
     "metadata": {},
     "output_type": "display_data"
    },
    {
     "data": {
      "text/latex": [
       "$$- \\frac{1}{4} |0000\\rangle- \\frac{1}{4} |0001\\rangle- \\frac{1}{4} |0010\\rangle- \\frac{1}{4} |0011\\rangle- \\frac{1}{4} |0100\\rangle- \\frac{1}{4} |0101\\rangle+\\frac{3}{4} |0110\\rangle- \\frac{1}{4} |0111\\rangle$$"
      ],
      "text/plain": [
       "<IPython.core.display.Latex object>"
      ]
     },
     "metadata": {},
     "output_type": "display_data"
    },
    {
     "data": {
      "text/html": [
       "<hr>"
      ],
      "text/plain": [
       "<IPython.core.display.HTML object>"
      ]
     },
     "metadata": {},
     "output_type": "display_data"
    },
    {
     "data": {
      "text/latex": [
       "$\\displaystyle <h_7|R h_7> = 0.75+0.00j$"
      ],
      "text/plain": [
       "<IPython.core.display.Math object>"
      ]
     },
     "metadata": {},
     "output_type": "display_data"
    },
    {
     "data": {
      "text/latex": [
       "$$ |0111\\rangle$$"
      ],
      "text/plain": [
       "<IPython.core.display.Latex object>"
      ]
     },
     "metadata": {},
     "output_type": "display_data"
    },
    {
     "data": {
      "text/latex": [
       "$$- \\frac{1}{4} |0000\\rangle- \\frac{1}{4} |0001\\rangle- \\frac{1}{4} |0010\\rangle- \\frac{1}{4} |0011\\rangle- \\frac{1}{4} |0100\\rangle- \\frac{1}{4} |0101\\rangle- \\frac{1}{4} |0110\\rangle+\\frac{3}{4} |0111\\rangle$$"
      ],
      "text/plain": [
       "<IPython.core.display.Latex object>"
      ]
     },
     "metadata": {},
     "output_type": "display_data"
    }
   ],
   "source": [
    "\n",
    "def unit_basis(qc,n,i):\n",
    "    for j in range(n):\n",
    "        if i%2==1:\n",
    "            qc.x(j)\n",
    "        i = i//2\n",
    "    qc.barrier()\n",
    "    return Statevector(qc), qc\n",
    "\n",
    "\n",
    "def test_unit_basis(n, show_one=-1):\n",
    "    \n",
    "    for i in range(2**n):\n",
    "        qc = QuantumCircuit(n+1)\n",
    "        sv_in, qc = unit_basis(qc,n,i)\n",
    "        sv_out, qc = Ur_3(qc)\n",
    "        if show_one==i or show_one<0:\n",
    "            display(qc.draw('mpl'))\n",
    "        display(HTML(f'<hr>'))\n",
    "        display(Math(f'<h_{i}|R h_{i}> = {sv_in.inner(sv_out):.2f}'))\n",
    "        display(sv_in.draw('latex'), sv_out.draw('latex'))\n",
    "        # assert sv_in.equiv(sv_out), f'Assertion failed for i={i}'\n",
    "        \n",
    "\n",
    "n = 3    \n",
    "test_unit_basis(n, show_one=0)   \n",
    "\n",
    "    "
   ]
  },
  {
   "cell_type": "markdown",
   "id": "02345cfb-5333-4a45-ad00-738d758563e6",
   "metadata": {},
   "source": [
    "#### Exercise C\n",
    "\n",
    "#### Exercise D\n"
   ]
  },
  {
   "cell_type": "code",
   "execution_count": null,
   "id": "1e242684-0318-4c6d-9120-d40dcf771f4a",
   "metadata": {},
   "outputs": [],
   "source": []
  }
 ],
 "metadata": {
  "kernelspec": {
   "display_name": "Python 3 (ipykernel)",
   "language": "python",
   "name": "python3"
  },
  "language_info": {
   "codemirror_mode": {
    "name": "ipython",
    "version": 3
   },
   "file_extension": ".py",
   "mimetype": "text/x-python",
   "name": "python",
   "nbconvert_exporter": "python",
   "pygments_lexer": "ipython3",
   "version": "3.12.5"
  }
 },
 "nbformat": 4,
 "nbformat_minor": 5
}
