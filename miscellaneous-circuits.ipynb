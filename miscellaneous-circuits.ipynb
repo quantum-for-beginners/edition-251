{
 "cells": [
  {
   "cell_type": "markdown",
   "id": "7da53d78-fef2-4b03-92d5-28b98b130728",
   "metadata": {},
   "source": [
    "---\n",
    "\n",
    "## Miscellaneous Circuits\n",
    "\n",
    "_course: quantum cryptography for beginners\n",
    "<br>date: 12 december 2024\n",
    "<br>author: burton rosenberg_\n",
    "\n",
    "---\n"
   ]
  },
  {
   "cell_type": "code",
   "execution_count": null,
   "id": "1f5d07d0-05cf-4ef6-ae2b-62ba3c537821",
   "metadata": {},
   "outputs": [],
   "source": [
    "import qiskit\n",
    "from qiskit import QuantumCircuit\n",
    "from qiskit.quantum_info import Statevector, Operator, Pauli \n",
    "from qiskit.visualization import plot_bloch_multivector, plot_bloch_vector\n",
    "from IPython.display import display, Math, HTML\n",
    "import time, math\n",
    "from qiskit.providers.basic_provider import BasicSimulator\n",
    "from qiskit import QuantumRegister, ClassicalRegister\n",
    "from qiskit.circuit import Parameter\n",
    "\n",
    "print(f'\\nqiskit version: {qiskit.version.get_version_info()}\\n')\n",
    "\n",
    "import math\n",
    "import numpy as np\n",
    "import matplotlib.pyplot as plt\n"
   ]
  },
  {
   "cell_type": "markdown",
   "id": "816cea8a-9428-465f-b263-79ff80982e05",
   "metadata": {},
   "source": [
    "### Additional Constructions\n",
    "\n",
    "A double controlled $H$ gate can be done the same as the above constrution. Also, using the construction with three inputs, with three square root and an inverse square root controled by the parity of the three bits, gives a X controled by the majority.\n"
   ]
  },
  {
   "cell_type": "code",
   "execution_count": 13,
   "id": "ddad67ac-4748-40d4-b979-2c9ff1baaf87",
   "metadata": {},
   "outputs": [
    {
     "name": "stdout",
     "output_type": "stream",
     "text": [
      "808464432\n"
     ]
    }
   ],
   "source": [
    "def majority_X(qc):\n",
    "\n",
    "    qc.csx(0,3)\n",
    "    qc.csx(1,3)\n",
    "    qc.csx(2,3)\n",
    "    qc.cx(0,1)\n",
    "    qc.cx(1,2)\n",
    "    qc.cu(np.pi/2, np.pi/2, -np.pi/2, -np.pi/4, 2, 3)\n",
    "    qc.cx(1,2)\n",
    "    qc.cx(0,1)\n",
    "    return qc\n",
    "\n",
    "qc = QuantumCircuit(4)\n",
    "for i in range(3):\n",
    "    qc.h(i)\n",
    "qc.barrier()\n",
    "qc = majority_X(qc)\n",
    "display(qc.draw('mpl'))\n",
    "display(Statevector(qc).draw('latex'))"
   ]
  },
  {
   "cell_type": "markdown",
   "id": "c3ec1c2b-6ea9-4213-b7d9-46b08194c509",
   "metadata": {},
   "source": [
    "### Phase Kickback\n",
    "\n",
    "Is there something for two qubits?\n",
    "$$\n",
    "|x,0\\rangle\\mapsto (i)^{F(x)}|x,0\\rangle\n",
    "$$\n"
   ]
  },
  {
   "cell_type": "code",
   "execution_count": null,
   "id": "311f4268-8234-46a1-969c-46821bc12359",
   "metadata": {},
   "outputs": [],
   "source": [
    "x = Parameter('x')\n",
    "y = Parameter('y')\n",
    "\n",
    "qc = QuantumCircuit(3)\n",
    "qc.rx(x,1)\n",
    "qc.rx(y,2)\n",
    "qc.x(0)\n",
    "qc.h(0)\n",
    "qc.cz(1,0)\n",
    "qc.cx(2,0)\n",
    "qc.h(0)\n",
    "qc.cx(1,0)\n",
    "qc.x(0)\n",
    "\n",
    "#op = Operator(qc)\n",
    "#display(op.draw('latex'))\n",
    "display(display(qc.draw('mpl')))\n",
    "\n",
    "params = [\n",
    "    {x:0, y:0},\n",
    "    {x:math.pi, y:0},\n",
    "    {x:0, y:math.pi},\n",
    "    {x:math.pi, y:math.pi}\n",
    "]\n",
    "\n",
    "basic_sim = BasicSimulator()\n",
    "for param in params:\n",
    "    sv = Statevector(qc.assign_parameters(param))\n",
    "    display(sv.draw('latex'))\n"
   ]
  }
 ],
 "metadata": {
  "kernelspec": {
   "display_name": "Python 3 (ipykernel)",
   "language": "python",
   "name": "python3"
  },
  "language_info": {
   "codemirror_mode": {
    "name": "ipython",
    "version": 3
   },
   "file_extension": ".py",
   "mimetype": "text/x-python",
   "name": "python",
   "nbconvert_exporter": "python",
   "pygments_lexer": "ipython3",
   "version": "3.12.5"
  }
 },
 "nbformat": 4,
 "nbformat_minor": 5
}
